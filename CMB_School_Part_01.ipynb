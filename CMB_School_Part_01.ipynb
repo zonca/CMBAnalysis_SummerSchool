{
 "cells": [
  {
   "cell_type": "markdown",
   "metadata": {},
   "source": [
    "<a href=\"https://colab.research.google.com/github/jeffmcm1977/CMBAnalysis_SummerSchool/blob/master/CMB_School_Part_01.ipynb\" target=\"_parent\"><img src=\"https://colab.research.google.com/assets/colab-badge.svg\" alt=\"Open In Colab\"/></a>"
   ]
  },
  {
   "cell_type": "markdown",
   "metadata": {},
   "source": [
    "# Introduction to Data Analysis Techniques for Cosmic Microwave Background  Maps\n",
    "\n",
    "### Jeff McMahon and Renée Hložek \n",
    "\n",
    "The Cosmic Microwave Background (CMB) is the oldest observable light in the universe. As such it carries a wealth of cosmological information including: (1) signals from the early universe (primary anisotropy), and (2) distortions imprinted as this light propagates through the universe and encounters collapsed structures (secondary anisotropy).  Measurements of these signals give us important measurements and constraints on inflationary parameters, dark energy, dark matter, the sum of the neutrino masses, and many astrophysical processes.  The development of CMB instruments and analysis techniques is rapidly evolving.\n",
    "\n",
    "This notebook provides an introduction to analysis techniques for CMB maps as they pertain to high resolution CMB instruments such as the Atacama Cosmology Telescope (ACT) and the South Pole Telescope (SPT).  These state of the art instruments have thousands of detectors (pixels) deployed on 6 and 10 meter telescopes which produce arc minute resolution beams at 150 GHz.  These telescopes observe by scanning across the sky.  The data from each detector are read out at high speed (typically > 50 Hz) to produce 'detector time streams' which are recored along with pointing information and other ancillary data.  Sophisticated codes are used to convert these time streams into maps of the CMB sky.  These maps can have correlated noise that must be accounted for in data analysis.   The mapmaking algorithms are not described here but represent a very interesting big data challenge as they require cleaning time streams by filtering, identifying transient events, and ultimately compressing ~Tb of data down to maps that are typically 100 Mb or less.  \n",
    "\n",
    "Here are example maps from SPT (top, taken from a phys.org article from April 2, 2012 titled \"South Pole Telescope hones in on dark energy, neutrinos\") and ACTPol (bottom, taken from the Naess et al. 2014 CMB polarization paper).  Many features are obvious in these maps including: (1) the primary CMB visible as waves in the intensity, (2) active galactic nuclei and other bright astrophysical point sources which manifest as bright dots, (3) clusters of galaxies which show up as darkened point sources, and (4) horizontal stripes (in the SPT map) that are the result of the noise and map filtering.  The ACTPol figure shows multiple maps; the T is temperature, Q and U are polarization, and E and B are also polarization but decomposed into a basis such that the E is the amplitude of the curl-free component, and B is the amplitude of the divergence free component of the polarization vector field.\n",
    "\n",
    "![](https://scx2.b-cdn.net/gfx/news/hires/2012/newcosmologi.jpg)\n",
    "\n",
    "![](http://www.classe.cornell.edu/rsrc/Home/NewsAndEvents/CornellExperimentalCosmologyNews20140528/maps_b.png)\n",
    "\n",
    "\n",
    "\n",
    "While the current instruments (ACTPol and SPTPol) have multiple frequencies and polarization sensitivity, for simplicity we consider only a single frequency (150 GHz) and only temperature.  Adding extra frequency channels or polarization add the cost of slightly more work and would make this presentation more confusing.  Therefore we leave these complications for a future treatment and focus on temperature alone.  This allows us to show the basics of monty carlo analysis of both the angular power spectrum and matched filter techniques for studying Sunyaev-Zeldovich (SZ) effect.\n",
    "\n",
    "The short course is organized as follows.   We beginning by building simulation of the CMB sky including the primary CMB, point sources (AGN and dusty galaxies), the SZ effect, and (if time) CMB lensing.   To these maps, we fold in instrumental effects including the beam, instrument and atmospheric noise.  We then present several analysis techniques including monty carlo estimation of power spectra and matched filter techniques for extraction of sources    An example of a stacking analysis is presented as an example of a cross-correlation with external data sets.  Cross-correlation is a very active field of research.\n",
    "\n",
    "In the interest of simplicity we use approximate distributions for source and SZ counts with combinations of exponential and poisson distributions.   We note explicitly where we make these approximations."
   ]
  },
  {
   "cell_type": "markdown",
   "metadata": {},
   "source": [
    "## Code preliminaries\n",
    "We use the following libraries in this code.  All are available through Anaconda."
   ]
  },
  {
   "cell_type": "code",
   "execution_count": null,
   "metadata": {},
   "outputs": [],
   "source": [
    "import numpy as np\n",
    "import matplotlib\n",
    "import sys\n",
    "import matplotlib.cm as cm\n",
    "import matplotlib.mlab as mlab\n",
    "import matplotlib.pyplot as plt\n",
    "import astropy.io.fits as fits"
   ]
  },
  {
   "cell_type": "markdown",
   "metadata": {},
   "source": [
    "## Section 1.1: Angular Power Spectrum\n",
    "The majority of the information content of the CMB is contained in its angular power spectrum.   This spectrum is the amplitude squared of the magnitude of the temperature fluctuations as a function of $\\ell$.  Here $\\ell$ is the variable you have seen before with the spherical harmonics (e.g., $Y_{\\ell m}$).  $\\ell = 0$ corresponds to a constant temperature across the sky, $\\ell = 200$ corresponds approximately to scales of $1^\\circ$.  For a given set of input cosmological parameters these spectra can be computed with codes including CMBFAST or the more modern equivalent CAMB. \n",
    "\n",
    "Recently it has become relatively easy to install and run CAMB through Python.  One can use pip install to do this."
   ]
  },
  {
   "cell_type": "code",
   "execution_count": null,
   "metadata": {
    "scrolled": true
   },
   "outputs": [],
   "source": [
    "!python -c \"import camb\" || python -m pip install camb"
   ]
  },
  {
   "cell_type": "markdown",
   "metadata": {
    "scrolled": true
   },
   "source": [
    "Now that CAMB is installed we can set the cosmological parameters to match the standared cosmological model and ask that the spectrum be computed up to $\\ell = 5000$ for our particular case.  We refer you to the [CAMB documentation](https://camb.readthedocs.io/en/latest/) for more details on this package."
   ]
  },
  {
   "cell_type": "code",
   "execution_count": null,
   "metadata": {
    "scrolled": true
   },
   "outputs": [],
   "source": [
    "import camb\n",
    "from camb import model, initialpower\n",
    "\n",
    "# Set up a new set of parameters for CAMB\n",
    "# The defaults give one massive neutrino and helium set using BBN consistency\n",
    "pars = camb.set_params(\n",
    "    H0=67.5,\n",
    "    ombh2=0.022,\n",
    "    omch2=0.122,\n",
    "    mnu=0.06,\n",
    "    omk=0,\n",
    "    tau=0.06,\n",
    "    As=2e-9,\n",
    "    ns=0.965,\n",
    "    halofit_version=\"mead\",\n",
    "    lmax=5000,\n",
    ")\n",
    "pars.set_for_lmax(5000, lens_potential_accuracy=2)\n",
    "pars.WantTensors = True"
   ]
  },
  {
   "cell_type": "markdown",
   "metadata": {},
   "source": [
    "With these paramters now setup we can compute the CMB power spectrum.    "
   ]
  },
  {
   "cell_type": "code",
   "execution_count": null,
   "metadata": {
    "scrolled": true
   },
   "outputs": [],
   "source": [
    "# calculate results for these parameters\n",
    "results = camb.get_results(pars)\n",
    "\n",
    "## now add tensors keeping at r = 0.008  ## note we can recompute the tenser contribution with out rerunning the scalar part.\n",
    "inflation_params = initialpower.InitialPowerLaw()\n",
    "inflation_params.set_params(ns=0.96, r=0.008)\n",
    "\n",
    "results.power_spectra_from_transfer(\n",
    "    inflation_params\n",
    ")  # warning OK here, not changing scalars\n",
    "lmax = 5000\n",
    "\n",
    "## get the Cl's\n",
    "cl = results.get_total_cls(lmax, CMB_unit=\"muK\")\n",
    "# ignore the warning-- this is OK"
   ]
  },
  {
   "cell_type": "code",
   "execution_count": null,
   "metadata": {},
   "outputs": [],
   "source": [
    "## now save these paramters as a text file for future use\n",
    "ell_and_cell = np.append(np.arange(np.size(cl[:, 0])), cl.transpose().ravel())\n",
    "ell_and_cell = ell_and_cell.reshape((5, 5001))\n",
    "np.savetxt(\"CAMB_fiducial_cosmo_scalCls.dat\", ell_and_cell.transpose())"
   ]
  },
  {
   "cell_type": "markdown",
   "metadata": {},
   "source": [
    "It is fun to play with parameters and see how the spectrum changes.\n",
    "\n",
    "The relative locations and amplitudes of the peaks carry a great deal of information. The location of the first peak provided the first definitive measurement that our universe is flat. The shape of the spectrum constrains a wide variety of cosmological parameters including dark energy and dark matter. The fall off at high ell is called the damping tail and it provides constrains on the spectral index from inflation. A wealth of cosmological parameters are constrained by measurements of this spectrum.\n",
    "\n",
    "At this point the temperature spectrum is well measured and the open frontiers are polarization and secondary anisotropies that are not included in this spectrum. We will now build simulated skies including the CMB anisotropy and secondary anisotropies. After that we will show how to estimate the power spectrum from map data using Monte Carlo techniques. This Monte Carlo approach can be used for interpretation of polarization data and for the interpretation of cross-correlations between CMB and other survey data.\n",
    "\n",
    "Here is how to read in and plot the CMB temperature spectrum from a CAMB simulation."
   ]
  },
  {
   "cell_type": "code",
   "execution_count": null,
   "metadata": {},
   "outputs": [],
   "source": [
    "# read in the input CMB spectra\n",
    "ell, DlTT = np.loadtxt(\"CAMB_fiducial_cosmo_scalCls.dat\", usecols=(0, 1), unpack=True)\n",
    "plt.plot(ell, DlTT)\n",
    "plt.ylabel(r\"$D_{\\ell}$ [$\\mu$K$^2$]\")\n",
    "plt.xlabel(r\"$\\ell$\")"
   ]
  },
  {
   "cell_type": "markdown",
   "metadata": {},
   "source": [
    "This plot is the angular power spectrum of the CMB temperature anisotropies.  It is traditional to plot $D_\\ell$ which give the variance on various angular scales.  This is related to the angular power spectrum $C_\\ell$ by $D_\\ell = \\frac {\\ell (\\ell+1)} {2 \\pi} C_\\ell$.  The correct thing to use for creating CMB maps is $C_\\ell$, but $D_\\ell$ is what you are used to seeing plotted."
   ]
  },
  {
   "cell_type": "markdown",
   "metadata": {},
   "source": [
    "<font color='red'> EXERCISE: </font>  Generate a power spectrum for a for a model universe with a strange component of your choosing (e.g., with spatial curvature, no dark energy, some other bizare component). Make a plot comparing this power spectrum to the vanilla spectram above.  We will compare results "
   ]
  },
  {
   "cell_type": "code",
   "execution_count": null,
   "metadata": {},
   "outputs": [],
   "source": [
    "# your code and plots go here"
   ]
  },
  {
   "cell_type": "markdown",
   "metadata": {},
   "source": [
    "Comment on how your spectrum from this strange model universe compars to the spectrum from standard cosmology here."
   ]
  },
  {
   "cell_type": "markdown",
   "metadata": {},
   "source": [
    "## Section 1.2: Temperature Anisotropy Map\n",
    "In this step we generate a simulated map of the CMB sky with the spectrum we read in above.  Since the power spectrum is a function of $\\ell$ we need to do much of the work in harmonic space.  If we were generating a map on the full sky we would need to work with spherical harmonics.  Here we consider a small patch of sky $(\\sim 10^\\circ \\times 10^\\circ)$ where we can use the \"flat-sky\" approximation and replace $\\ell$ with $k = \\sqrt{k_x^2 + k_y^2}$.  There is a linear dependence between these variables defined by $\\ell = k* 2 \\pi$.\n",
    "\n",
    "In the flat sky approximation we generate a CMB map by:  (1) generating a 2D power spectrum by revolving the above spectrum (properly normalized) about the axis in polar coordinates, (2) generating a Gaussian random map with unit variance as our 'random realisation', (3) multiplying that maps from 1 and 2, and (4) Fourier transforming this to get a real space map.  We provide a function to do this and a function to plot this (and other maps) with a uniform color scale."
   ]
  },
  {
   "cell_type": "code",
   "execution_count": null,
   "metadata": {},
   "outputs": [],
   "source": [
    "## variables to set up the size of the map\n",
    "N = 2**10  # this is the number of pixels in a linear dimension\n",
    "## since we are using lots of FFTs this should be a factor of 2^N\n",
    "pix_size = 0.5  # size of a pixel in arcminutes\n",
    "\n",
    "## variables to set up the map plots\n",
    "c_min = -400  # minimum for color bar\n",
    "c_max = 400  # maximum for color bar\n",
    "X_width = N * pix_size / 60.0  # horizontal map width in degrees\n",
    "Y_width = N * pix_size / 60.0  # vertical map width in degrees"
   ]
  },
  {
   "cell_type": "code",
   "execution_count": null,
   "metadata": {},
   "outputs": [],
   "source": [
    "def make_CMB_T_map(N, pix_size, ell, DlTT):\n",
    "    \"makes a realization of a simulated CMB sky map given an input DlTT as a function of ell,\"\n",
    "    \"the pixel size (pix_size) required and the number N of pixels in the linear dimension.\"\n",
    "    # np.random.seed(100)\n",
    "    # convert Dl to Cl\n",
    "    ClTT = DlTT * 2 * np.pi / (ell * (ell + 1.0))\n",
    "    ClTT[0] = 0.0  # set the monopole and the dipole of the Cl spectrum to zero\n",
    "    ClTT[1] = 0.0\n",
    "\n",
    "    # make a 2D real space coordinate system\n",
    "    inds = np.linspace(-0.5, 0.5, N)  # create an array of size N between -0.5 and +0.5\n",
    "    # construct grid of X and Y coordinates\n",
    "    X, Y = np.meshgrid(inds, inds)\n",
    "    # radial component R\n",
    "    R = np.sqrt(X**2.0 + Y**2.0)\n",
    "\n",
    "    # now make a 2D CMB power spectrum\n",
    "    pix_to_rad = (\n",
    "        pix_size / 60.0 * np.pi / 180.0\n",
    "    )  # going from pix_size in arcmins to degrees and then degrees to radians\n",
    "    ell_scale_factor = (\n",
    "        2.0 * np.pi / pix_to_rad\n",
    "    )  # now relating the angular size in radians to multipoles\n",
    "    ell2d = (\n",
    "        R * ell_scale_factor\n",
    "    )  # making a fourier space analogue to the real space R vector\n",
    "    ClTT_expanded = np.zeros(int(ell2d.max()) + 1)\n",
    "    # making an expanded Cl spectrum (of zeros) that goes all the way to the size of the 2D ell vector\n",
    "    ClTT_expanded[0 : (ClTT.size)] = (\n",
    "        ClTT  # fill in the Cls until the max of the ClTT vector\n",
    "    )\n",
    "\n",
    "    # the 2D Cl spectrum is defined on the multiple vector set by the pixel scale\n",
    "    CLTT2d = ClTT_expanded[ell2d.astype(int)]\n",
    "\n",
    "    # now make a realization of the CMB with the given power spectrum in real space\n",
    "    random_array_for_T = np.random.normal(0, 1, (N, N))\n",
    "    FT_random_array_for_T = np.fft.fft2(\n",
    "        random_array_for_T\n",
    "    )  # take FFT since we are in Fourier space\n",
    "    FT_2d = (\n",
    "        np.sqrt(CLTT2d) * FT_random_array_for_T\n",
    "    )  # we take the sqrt since the power spectrum is T^2\n",
    "\n",
    "    # move back from ell space to real space\n",
    "    CMB_T = np.fft.ifft2(np.fft.fftshift(FT_2d))\n",
    "    # move back to pixel space for the map\n",
    "    CMB_T /= pix_to_rad\n",
    "    # we only want to plot the real component\n",
    "    CMB_T = np.real(CMB_T)\n",
    "\n",
    "    ## return the map\n",
    "    return CMB_T\n",
    "\n",
    "\n",
    "###############################\n",
    "\n",
    "\n",
    "def Plot_CMB_Map(Map_to_Plot, c_min, c_max, X_width, Y_width):\n",
    "    from mpl_toolkits.axes_grid1 import make_axes_locatable\n",
    "\n",
    "    print(\"map mean:\", np.mean(Map_to_Plot), \"map rms:\", np.std(Map_to_Plot))\n",
    "    plt.gcf().set_size_inches(10, 10)\n",
    "    im = plt.imshow(\n",
    "        Map_to_Plot, interpolation=\"bilinear\", origin=\"lower\", cmap=cm.RdBu_r\n",
    "    )\n",
    "    im.set_clim(c_min, c_max)\n",
    "    im.set_extent([0, X_width, 0, Y_width])\n",
    "    plt.ylabel(r\"Angle $[^\\circ]$\")\n",
    "    plt.xlabel(r\"Angle $[^\\circ]$\")\n",
    "\n",
    "    ax = plt.gca()\n",
    "    divider = make_axes_locatable(ax)\n",
    "    cax = divider.append_axes(\"right\", size=\"5%\", pad=0.05)\n",
    "    cbar = plt.colorbar(im, cax=cax, label=\"Temperature [uK]\")\n",
    "\n",
    "\n",
    "###############################"
   ]
  },
  {
   "cell_type": "code",
   "execution_count": null,
   "metadata": {},
   "outputs": [],
   "source": [
    "## make a CMB T map\n",
    "ell, DlTT = np.loadtxt(\"CAMB_fiducial_cosmo_scalCls.dat\", usecols=(0, 1), unpack=True)\n",
    "CMB_T = make_CMB_T_map(N, pix_size, ell, DlTT)\n",
    "Plot_CMB_Map(CMB_T, c_min, c_max, X_width, Y_width)"
   ]
  },
  {
   "cell_type": "markdown",
   "metadata": {},
   "source": [
    "This contour plot shows simulated CMB map we just generated.  If you generate it multiple times you will find that you get different patterns, however you will see that the typical size of the brightest and darkest spots will stay around $1^\\circ$, corresponding to the peak of the angular power spectrum.  All simulated sky maps are displayed with the same color scale to permit visual comparison."
   ]
  },
  {
   "cell_type": "markdown",
   "metadata": {},
   "source": [
    "<font color='red'>EXERCISE: </font>  Make a function called \"make_CMB_T_map_visualize_steps\" by copying the code from \"make_CMB_T_map\" above and changing the function name.  In this version, make a contour plot of (1) the 2D CMB power spectrum and (2) your realization of the spectrum in harmonic space.   Run this multiple times to see how your realization changes at each iteration."
   ]
  },
  {
   "cell_type": "code",
   "execution_count": null,
   "metadata": {},
   "outputs": [],
   "source": [
    "# your code and plots go here"
   ]
  },
  {
   "cell_type": "markdown",
   "metadata": {},
   "source": [
    "   "
   ]
  },
  {
   "cell_type": "markdown",
   "metadata": {},
   "source": [
    "Discuss: (1)  how the CMB power sepctrum related to the realization, and (2) how the realization in harmonic space relates to the CMB map."
   ]
  },
  {
   "cell_type": "markdown",
   "metadata": {},
   "source": [
    "<font color='red'>EXERCISE: </font>  Re-run your code with the spectrum from your strange model univese.  Compare how the maps look. How does the map produced change if you set the original power spectrum to zero on small scales (eg. $\\ell > 1000$)? And if you set all large scales to zero?"
   ]
  },
  {
   "cell_type": "code",
   "execution_count": null,
   "metadata": {},
   "outputs": [],
   "source": [
    "## your code goes here"
   ]
  },
  {
   "cell_type": "markdown",
   "metadata": {},
   "source": [
    "Your comments go here"
   ]
  }
 ],
 "metadata": {
  "anaconda-cloud": {},
  "kernelspec": {
   "display_name": "Python 3 (ipykernel)",
   "language": "python",
   "name": "python3"
  },
  "language_info": {
   "codemirror_mode": {
    "name": "ipython",
    "version": 3
   },
   "file_extension": ".py",
   "mimetype": "text/x-python",
   "name": "python",
   "nbconvert_exporter": "python",
   "pygments_lexer": "ipython3",
   "version": "3.12.3"
  }
 },
 "nbformat": 4,
 "nbformat_minor": 4
}
